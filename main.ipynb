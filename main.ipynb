{
 "cells": [
  {
   "cell_type": "code",
   "execution_count": 17,
   "metadata": {},
   "outputs": [],
   "source": [
    "import numpy as np\n",
    "\n",
    "def algorithm_on_steroids(a, b):\n",
    "    return int(np.sum([a, b]))"
   ]
  },
  {
   "cell_type": "code",
   "execution_count": 18,
   "metadata": {},
   "outputs": [],
   "source": [
    "from json import loads, dumps\n",
    "\n",
    "def handler(event, context):\n",
    "    body = loads(event['body'])\n",
    "    result = algorithm_on_steroids(body['a'], body['b'])\n",
    "    return {\n",
    "        'statusCode': 200,\n",
    "        'body': dumps({\n",
    "            'result': result\n",
    "        }),\n",
    "        'headers' : {\n",
    "            'Access-Control-Allow-Origin' : '*'\n",
    "        }\n",
    "    }"
   ]
  }
 ],
 "metadata": {
  "kernelspec": {
   "display_name": "Python 3",
   "language": "python",
   "name": "python3"
  },
  "language_info": {
   "codemirror_mode": {
    "name": "ipython",
    "version": 3
   },
   "file_extension": ".py",
   "mimetype": "text/x-python",
   "name": "python",
   "nbconvert_exporter": "python",
   "pygments_lexer": "ipython3",
   "version": "3.6.4"
  }
 },
 "nbformat": 4,
 "nbformat_minor": 2
}
